{
  "nbformat": 4,
  "nbformat_minor": 0,
  "metadata": {
    "colab": {
      "provenance": [],
      "authorship_tag": "ABX9TyPom6McIAjBID9EVp36hQfJ",
      "include_colab_link": true
    },
    "kernelspec": {
      "name": "python3",
      "display_name": "Python 3"
    },
    "language_info": {
      "name": "python"
    }
  },
  "cells": [
    {
      "cell_type": "markdown",
      "metadata": {
        "id": "view-in-github",
        "colab_type": "text"
      },
      "source": [
        "<a href=\"https://colab.research.google.com/github/udaykiran83358gmailcom/2203a51238-DAA/blob/main/mul_of_mat_c.ipynb\" target=\"_parent\"><img src=\"https://colab.research.google.com/assets/colab-badge.svg\" alt=\"Open In Colab\"/></a>"
      ]
    },
    {
      "cell_type": "code",
      "source": [
        "!apt-get install gcc"
      ],
      "metadata": {
        "colab": {
          "base_uri": "https://localhost:8080/"
        },
        "id": "MB469CkUKI6N",
        "outputId": "17f5da00-0569-4b5e-900b-480570f85371"
      },
      "execution_count": 17,
      "outputs": [
        {
          "output_type": "stream",
          "name": "stdout",
          "text": [
            "Reading package lists... Done\n",
            "Building dependency tree... Done\n",
            "Reading state information... Done\n",
            "gcc is already the newest version (4:11.2.0-1ubuntu1).\n",
            "gcc set to manually installed.\n",
            "0 upgraded, 0 newly installed, 0 to remove and 45 not upgraded.\n"
          ]
        }
      ]
    },
    {
      "cell_type": "code",
      "execution_count": 28,
      "metadata": {
        "id": "nIsVj3uQFRfa"
      },
      "outputs": [],
      "source": [
        "code = \"\"\"\n",
        "#include <stdio.h>\n",
        "\n",
        "int main() {\n",
        "    int i,a[10], b, sum;\n",
        "    printf(\"Enter two numbers: \");\n",
        "    scanf(\"%d\", &a);\n",
        "    for(i=0;i<a;i++)\n",
        "    {\n",
        "      scanf(\"%d\",&a[i]);\n",
        "    }\n",
        "    for(i=0;i<a;i++)\n",
        "    {\n",
        "      printf(\"%d\",a[i]);\n",
        "    }\n",
        "\n",
        "    return 0;\n",
        "}\n",
        "\"\"\"\n",
        "\n",
        "with open('program.c', 'w') as f:\n",
        "    f.write(code)\n"
      ]
    },
    {
      "cell_type": "code",
      "source": [
        "!gcc program.c -o program\n"
      ],
      "metadata": {
        "id": "dwSU8pAEKm3o"
      },
      "execution_count": 29,
      "outputs": []
    },
    {
      "cell_type": "code",
      "source": [
        "input_data = \"5\\n\"\n",
        "\n",
        "with open('input.txt', 'w') as f:\n",
        "    f.write(input_data)\n"
      ],
      "metadata": {
        "id": "VeDnz_nBLb1l"
      },
      "execution_count": 31,
      "outputs": []
    },
    {
      "cell_type": "code",
      "source": [
        "!./program < input.txt\n"
      ],
      "metadata": {
        "colab": {
          "base_uri": "https://localhost:8080/"
        },
        "id": "nPDKvtGcLilH",
        "outputId": "d3683503-b302-4d66-e40a-b221480d7c37"
      },
      "execution_count": 32,
      "outputs": [
        {
          "output_type": "stream",
          "name": "stdout",
          "text": [
            "Enter two numbers: Sum: 5\n"
          ]
        }
      ]
    },
    {
      "cell_type": "markdown",
      "source": [
        "addtion of matrix\n"
      ],
      "metadata": {
        "id": "LzWaaG0AO2CZ"
      }
    },
    {
      "cell_type": "code",
      "source": [
        "a=eval(input())\n",
        "for i in a:\n",
        "  for j in i:\n",
        "    print(j,end=\" \")\n",
        "  print(\"\\n\")\n",
        "b=eval(input())\n",
        "for i in b:\n",
        "  for j in i:\n",
        "    print(j,end=\" \")\n",
        "  print(\"\\n\")\n",
        "c=[]\n",
        "for i,j in zip(a,b):\n",
        "  result=[]\n",
        "  for x,y in zip(i,j):\n",
        "    result.append(x+y)\n",
        "  c.append(result)\n",
        "for i in c:\n",
        "  for j in i:\n",
        "    print(j,end=\" \")\n",
        "  print(\"\\n\")\n"
      ],
      "metadata": {
        "colab": {
          "base_uri": "https://localhost:8080/"
        },
        "id": "CYheNOuUNWpk",
        "outputId": "e57959e4-9ca3-4a01-c6d3-aa31690d3049"
      },
      "execution_count": 47,
      "outputs": [
        {
          "output_type": "stream",
          "name": "stdout",
          "text": [
            "[[1,2],[1,2]]\n",
            "1 2 \n",
            "\n",
            "1 2 \n",
            "\n",
            "[[1,2],[1,2]]\n",
            "1 2 \n",
            "\n",
            "1 2 \n",
            "\n",
            "2 4 \n",
            "\n",
            "2 4 \n",
            "\n"
          ]
        }
      ]
    },
    {
      "cell_type": "markdown",
      "source": [
        "subtraction of the matrix"
      ],
      "metadata": {
        "id": "onGaxUTNUEZ_"
      }
    },
    {
      "cell_type": "code",
      "source": [
        "a=eval(input())\n",
        "for i in a:\n",
        "  for j in i:\n",
        "    print(j,end=\" \")\n",
        "  print(\"\\n\")\n",
        "b=eval(input())\n",
        "for i in b:\n",
        "  for j in i:\n",
        "    print(j,end=\" \")\n",
        "  print(\"\\n\")\n",
        "c=[]\n",
        "for i,j in zip(a,b):\n",
        "  result=[]\n",
        "  for x,y in zip(i,j):\n",
        "    result.append(x-y)\n",
        "  c.append(result)\n",
        "for i in c:\n",
        "  for j in i:\n",
        "    print(j,end=\" \")\n",
        "  print(\"\\n\")"
      ],
      "metadata": {
        "id": "4mk1F1YiT94P"
      },
      "execution_count": null,
      "outputs": []
    },
    {
      "cell_type": "code",
      "source": [
        "a=eval(input())\n",
        "print(\"THE B MATRIX\")\n",
        "for i in a:\n",
        "  for j in i:\n",
        "    print(j,end=\" \")\n",
        "  print(\"\\n\")\n",
        "b=eval(input())\n",
        "print(\"THE B MATRIX\")\n",
        "for i in b:\n",
        "  for j in i:\n",
        "    print(j,end=\" \")\n",
        "  print(\"\\n\")\n",
        "c=[]\n",
        "for i in range(len(a)):\n",
        "  sum=0\n",
        "  result=[]\n",
        "  for j in range(len(b)):\n",
        "    for k in range(1):\n",
        "      sum=sum+a[i][k]+b[k][i]\n",
        "    result.append(sum)\n",
        "  c.append(result)\n",
        "for i in c:\n",
        "  for j in i:\n",
        "    print(i,end=\" \")\n",
        "  print(\"\\n\")\n",
        "\n",
        "\n"
      ],
      "metadata": {
        "colab": {
          "base_uri": "https://localhost:8080/"
        },
        "id": "Vq2NLOnQUJVk",
        "outputId": "39ae196e-ffcd-4530-9b4f-f649c643c45f"
      },
      "execution_count": 50,
      "outputs": [
        {
          "output_type": "stream",
          "name": "stdout",
          "text": [
            "[[1,2],[1,2]]\n",
            "THE B MATRIX\n",
            "1 2 \n",
            "\n",
            "1 2 \n",
            "\n",
            "[[1,2],[1,2]]\n",
            "THE B MATRIX\n",
            "1 2 \n",
            "\n",
            "1 2 \n",
            "\n",
            "[2, 4] [2, 4] \n",
            "\n",
            "[3, 6] [3, 6] \n",
            "\n"
          ]
        }
      ]
    }
  ]
}
