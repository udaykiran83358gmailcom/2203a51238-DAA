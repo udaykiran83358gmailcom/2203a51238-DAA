MATRICES PROBLEMS
ADDITION

#ADDITION OF SINGLE MATRIX
#TIME COMPLEXCITY O(N)
a=[1,2,3,4,54]
b=[2,31,4,21,5]
for i in range(len(a)):
  a[i]+=b[i]
for i in range(len(b)):
  print(a[i],end=" ")


     
3 33 7 25 59 

#ADDITION OF MATRIX DYNAMICALLY
#TIME COMPLEXCITY O(ROW*COL)
rows =int(input(""))
col= int(input(""))
a=[[0]*col]*rows
b=[[0]*col]*rows
for i in range(rows):
  for j in range(col):
    a[i][j]=int(input(""))
for i in range(rows):
  for j in range(col):
    b[i][j]=int(input(""))
for i in range(rows):
  for i in range(col):
    print(a[i][j]+b[i][j],end=" ")
  print()



     
2
2
2
2
2
2
2
2
2
2
4 4 
4 4 

#ADDITION OF MATRIX STATICALLY
rows=col=2
a=[[2,2],[2,2]]
b=[[2,2],[2,2]]
for i in range(rows):
  for i in range(col):
    print(a[i][j]+b[i][j],end=" ")
  print()
     
MULTIPLICATION

#Multiplication
rows =int(input(""))
col= int(input(""))
a=[[0]*col]*rows
b=[[0]*col]*rows
for i in range(rows):
  for j in range(col):
    a[i][j]=int(input(""))
for i in range(rows):
  for j in range(col):
    b[i][j]=int(input(""))
pro=[[0]*col]*rows

for i in range(rows):
  for j in range(col):
    pro[i][j]+=a[i][j]*b[j][i]
for i in range(rows):
  for j in range(col):
    print(pro[i][j],end=" ")
  print()
     
2
2
2
2
2
2
2
2
2
2
88
88

#Multiplication statically
rows=col=2
a=[[2,2],[2,2]]
b=[[2,2],[2,2]]
pro=[[0]*col]*rows
for i in range(rows):
  for j in range(col):
    pro[i][j]+=a[i][j]*b[j][i]
for i in range(rows):
  for j in range(col):
    print(pro[i][j],end=" ")
  print()
     
8 8 
8 8 
