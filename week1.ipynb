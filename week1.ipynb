{
  "nbformat": 4,
  "nbformat_minor": 0,
  "metadata": {
    "colab": {
      "provenance": [],
      "authorship_tag": "ABX9TyNxWmp14CDui5F8x4BseoAa",
      "include_colab_link": true
    },
    "kernelspec": {
      "name": "python3",
      "display_name": "Python 3"
    },
    "language_info": {
      "name": "python"
    }
  },
  "cells": [
    {
      "cell_type": "markdown",
      "metadata": {
        "id": "view-in-github",
        "colab_type": "text"
      },
      "source": [
        "<a href=\"https://colab.research.google.com/github/udaykiran83358gmailcom/2203a51238-DAA/blob/main/week1.ipynb\" target=\"_parent\"><img src=\"https://colab.research.google.com/assets/colab-badge.svg\" alt=\"Open In Colab\"/></a>"
      ]
    },
    {
      "cell_type": "markdown",
      "source": [
        "adding two lists"
      ],
      "metadata": {
        "id": "EoZi3zKiD2C7"
      }
    },
    {
      "cell_type": "code",
      "execution_count": null,
      "metadata": {
        "colab": {
          "base_uri": "https://localhost:8080/"
        },
        "id": "SZxARovxbO69",
        "outputId": "b4169e0e-d381-419d-b04b-96cf2f2f506a"
      },
      "outputs": [
        {
          "output_type": "stream",
          "name": "stdout",
          "text": [
            "3 33 7 25 59 "
          ]
        }
      ],
      "source": [
        "a=[1,2,3,4,54]\n",
        "b=[2,31,4,21,5]\n",
        "for i in range(len(a)):\n",
        "  a[i]+=b[i]\n",
        "for i in range(len(b)):\n",
        "  print(a[i],end=\" \")\n"
      ]
    },
    {
      "cell_type": "markdown",
      "source": [
        "ADDTION OF TWO MATRIXS\n"
      ],
      "metadata": {
        "id": "4vBTJmoSBuXW"
      }
    },
    {
      "cell_type": "code",
      "source": [
        "rows =int(input(\"\"))\n",
        "col= int(input(\"\"))\n",
        "a=[[0]*col]*rows\n",
        "b=[[0]*col]*rows\n",
        "for i in range(rows):\n",
        "  for j in range(col):\n",
        "    a[i][j]=int(input(\"\"))\n",
        "for i in range(rows):\n",
        "  for j in range(col):\n",
        "    b[i][j]=int(input(\"\"))\n",
        "for i in range(rows):\n",
        "  for i in range(col):\n",
        "    print(a[i][j]+b[i][j],end=\" \")\n",
        "  print()\n",
        "\n"
      ],
      "metadata": {
        "id": "8T4r9w3sc0bv",
        "colab": {
          "base_uri": "https://localhost:8080/"
        },
        "outputId": "d17086cb-1b66-4a73-a0a8-848d2703b5bb"
      },
      "execution_count": 5,
      "outputs": [
        {
          "output_type": "stream",
          "name": "stdout",
          "text": [
            "2\n",
            "2\n",
            "2\n",
            "2\n",
            "2\n",
            "2\n",
            "2\n",
            "2\n",
            "2\n",
            "2\n",
            "4 4 \n",
            "4 4 \n"
          ]
        }
      ]
    },
    {
      "cell_type": "markdown",
      "source": [],
      "metadata": {
        "id": "Y67gtcuhB2j0"
      }
    },
    {
      "cell_type": "markdown",
      "source": [
        "subtraction of two mtrix\n"
      ],
      "metadata": {
        "id": "9iGj-cx1C-Wz"
      }
    },
    {
      "cell_type": "code",
      "source": [
        "a=[[2,2],[1,1]]\n",
        "b=[[2,2],[1,1]]\n",
        "for i in range(rows):\n",
        "  for i in range(col):\n",
        "    print(a[i][j]-b[i][j],end=\" \")\n",
        "  print()\n"
      ],
      "metadata": {
        "id": "4t_MPwatc8zd",
        "colab": {
          "base_uri": "https://localhost:8080/"
        },
        "outputId": "ff1c8e6e-d72b-43d6-c6cf-cb56f576e3dc"
      },
      "execution_count": 7,
      "outputs": [
        {
          "output_type": "stream",
          "name": "stdout",
          "text": [
            "0 0 \n",
            "0 0 \n"
          ]
        }
      ]
    },
    {
      "cell_type": "markdown",
      "source": [
        "multilication of two matrixs"
      ],
      "metadata": {
        "id": "H8DY1PiPDi4-"
      }
    },
    {
      "cell_type": "code",
      "source": [
        "rows =int(input(\"\"))\n",
        "col= int(input(\"\"))\n",
        "a=[[0]*col]*rows\n",
        "b=[[0]*col]*rows\n",
        "for i in range(rows):\n",
        "  for j in range(col):\n",
        "    a[i][j]=int(input(\"\"))\n",
        "for i in range(rows):\n",
        "  for j in range(col):\n",
        "    b[i][j]=int(input(\"\"))\n",
        "pro=[[0]*col]*rows\n",
        "\n",
        "for i in range(rows):\n",
        "  for j in range(col):\n",
        "    pro[i][j]+=a[i][j]*b[j][i]\n",
        "for i in range(rows):\n",
        "  for j in range(col):\n",
        "    print(pro[i][j],end=\" \")\n",
        "  print()"
      ],
      "metadata": {
        "id": "-G1ztxPDc_pt",
        "colab": {
          "base_uri": "https://localhost:8080/"
        },
        "outputId": "b9fa3a43-64d8-4c0f-f0b6-81c7d39cadcf"
      },
      "execution_count": 8,
      "outputs": [
        {
          "output_type": "stream",
          "name": "stdout",
          "text": [
            "2\n",
            "2\n",
            "1\n",
            "2\n",
            "3\n",
            "4\n",
            "5\n",
            "6\n",
            "7\n",
            "8\n",
            "45 60 \n",
            "45 60 \n"
          ]
        }
      ]
    },
    {
      "cell_type": "markdown",
      "source": [
        "ea"
      ],
      "metadata": {
        "id": "54mJBfKvD70s"
      }
    }
  ]
}