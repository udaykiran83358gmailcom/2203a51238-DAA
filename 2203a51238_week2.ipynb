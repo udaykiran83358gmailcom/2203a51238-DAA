{
  "nbformat": 4,
  "nbformat_minor": 0,
  "metadata": {
    "colab": {
      "provenance": [],
      "authorship_tag": "ABX9TyN4hBte8cIRMZc8W5/tFEbR",
      "include_colab_link": true
    },
    "kernelspec": {
      "name": "python3",
      "display_name": "Python 3"
    },
    "language_info": {
      "name": "python"
    }
  },
  "cells": [
    {
      "cell_type": "markdown",
      "metadata": {
        "id": "view-in-github",
        "colab_type": "text"
      },
      "source": [
        "<a href=\"https://colab.research.google.com/github/udaykiran83358gmailcom/2203a51238-DAA/blob/main/2203a51238_week2.ipynb\" target=\"_parent\"><img src=\"https://colab.research.google.com/assets/colab-badge.svg\" alt=\"Open In Colab\"/></a>"
      ]
    },
    {
      "cell_type": "markdown",
      "source": [
        "**bold text**"
      ],
      "metadata": {
        "id": "ldRj-SNDsgYI"
      }
    },
    {
      "cell_type": "markdown",
      "source": [
        "bubble sort\n"
      ],
      "metadata": {
        "id": "6tPGtsGVskkk"
      }
    },
    {
      "cell_type": "code",
      "source": [
        "n=eval(input(\"enter the list of values\"))\n",
        "x=len(n)\n",
        "for i in range(x-1):\n",
        "  for j in range(x-i-1):\n",
        "    if(n[j]>n[j+1]):\n",
        "      temp=n[j+1]\n",
        "      n[j+1]=n[j]\n",
        "      n[j]=temp;\n",
        "print(n)\n",
        "\n",
        ""
      ],
      "metadata": {
        "colab": {
          "base_uri": "https://localhost:8080/"
        },
        "id": "XcH_i6Casn1b",
        "outputId": "074eb2bc-9fe1-4506-e2c8-1841813858f4"
      },
      "execution_count": 2,
      "outputs": [
        {
          "output_type": "stream",
          "name": "stdout",
          "text": [
            "enter the list of values[1,4,3,5]\n",
            "[1, 3, 4, 5]\n"
          ]
        }
      ]
    },
    {
      "cell_type": "markdown",
      "source": [
        "insertion sort"
      ],
      "metadata": {
        "id": "0ox8gLRavIJN"
      }
    },
    {
      "cell_type": "code",
      "source": [
        "l = input(\"enter the numbers or strings:\").split()\n",
        "for i in range(1,len(l)):\n",
        "    key = l[i]\n",
        "    j = i-1\n",
        "    while j >= 0 and l[j]>key:\n",
        "        l[j+1] = l[j]\n",
        "        j-=1\n",
        "    l[j+1] = key\n",
        "print(l)"
      ],
      "metadata": {
        "colab": {
          "base_uri": "https://localhost:8080/"
        },
        "id": "vsm6EkJWvMxA",
        "outputId": "2b2be251-63f0-4be1-a695-c753bfddb450"
      },
      "execution_count": 3,
      "outputs": [
        {
          "output_type": "stream",
          "name": "stdout",
          "text": [
            "enter the numbers or strings:1 2 3 4 5\n",
            "['1', '2', '3', '4', '5']\n"
          ]
        }
      ]
    },
    {
      "cell_type": "markdown",
      "source": [
        "selection sort"
      ],
      "metadata": {
        "id": "mheULaPbzUVt"
      }
    },
    {
      "cell_type": "code",
      "source": [
        "l = input(\"enter the string or numbers:\").split()\n",
        "for i in range(len(l)):\n",
        "    min = l[i]\n",
        "    pos = i\n",
        "    for j in range(i+1,len(l)):\n",
        "        if l[j]<min:\n",
        "            min = l[j]\n",
        "            pos = j\n",
        "    l[pos] = l[i]\n",
        "    l[i] = min\n",
        "print(l)\n"
      ],
      "metadata": {
        "colab": {
          "base_uri": "https://localhost:8080/"
        },
        "id": "bUXqa1r8zTrA",
        "outputId": "cfcf61cc-8716-4702-f482-921f59aae104"
      },
      "execution_count": 4,
      "outputs": [
        {
          "output_type": "stream",
          "name": "stdout",
          "text": [
            "enter the string or numbers:8 6 4 3\n",
            "['3', '4', '6', '8']\n"
          ]
        }
      ]
    }
  ]
}