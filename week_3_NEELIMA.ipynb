{
  "nbformat": 4,
  "nbformat_minor": 0,
  "metadata": {
    "colab": {
      "provenance": [],
      "authorship_tag": "ABX9TyNCiTLNVOUf/QLDoQHCSq5J",
      "include_colab_link": true
    },
    "kernelspec": {
      "name": "python3",
      "display_name": "Python 3"
    },
    "language_info": {
      "name": "python"
    }
  },
  "cells": [
    {
      "cell_type": "markdown",
      "metadata": {
        "id": "view-in-github",
        "colab_type": "text"
      },
      "source": [
        "<a href=\"https://colab.research.google.com/github/udaykiran83358gmailcom/2203a51238-DAA/blob/main/week_3_NEELIMA.ipynb\" target=\"_parent\"><img src=\"https://colab.research.google.com/assets/colab-badge.svg\" alt=\"Open In Colab\"/></a>"
      ]
    },
    {
      "cell_type": "markdown",
      "source": [
        "Imagine you work for a large logistics company that handles a high volume of\n",
        "package deliveries on a daily basis. The company's success hinges on ensuring that\n",
        "packages are delivered to their respective destinations efficiently and on time. To\n",
        "solve this problem, you create a program that can quickly process and classify\n",
        "packages based on their destination"
      ],
      "metadata": {
        "id": "LGZi5KkwESPP"
      }
    },
    {
      "cell_type": "code",
      "execution_count": 7,
      "metadata": {
        "colab": {
          "base_uri": "https://localhost:8080/"
        },
        "id": "LBwv4LEXEQOM",
        "outputId": "6abaf126-ceb4-47c9-98fb-c75d93876c71"
      },
      "outputs": [
        {
          "output_type": "stream",
          "name": "stdout",
          "text": [
            "enter the destinations[1,3,5,6]\n",
            "enter the package name['a','b','c','d']\n",
            "the packeges are ['a', 'b', 'c', 'd']\n",
            " the sorted destinations are [1, 3, 5, 6]\n"
          ]
        }
      ],
      "source": [
        "def bubble_sort(n,x):\n",
        "  for i in range(x-1):\n",
        "    for j in range(x-i-1):\n",
        "      if(n[j]>n[j+1]):\n",
        "        n[j+1],n[j]=n[j],n[j+1]\n",
        "\n",
        "\n",
        "n=eval(input(\"enter the destinations\"))\n",
        "package=eval(input(\"enter the package name\"))\n",
        "x=len(n)\n",
        "bubble_sort(n,x)\n",
        "print(f'the packeges are {package}')\n",
        "print(f' the sorted destinations are {n}')\n"
      ]
    },
    {
      "cell_type": "markdown",
      "source": [
        "Imagine you are working for a retail store that sells a wide variety of products. The\n",
        "store has a vast inventory with thousands of items, and it's becoming challenging for\n",
        "the employees to manage and locate products efficiently. Customers often ask for\n",
        "specific items, and employees need to find them quickly. The sorting program's\n",
        "primary goal is to organize the products in the inventory systematically, allowing for\n",
        "faster and easier access to items when needed.\n",
        "Implement an efficient sorting algorithm to arrange the products based on product\n",
        "IDs"
      ],
      "metadata": {
        "id": "UPxvKk79EtIE"
      }
    },
    {
      "cell_type": "code",
      "source": [
        "def bubble_sort(n,x):\n",
        "  for i in range(x-1):\n",
        "    for j in range(x-i-1):\n",
        "      if(n[j]>n[j+1]):\n",
        "        n[j+1],n[j]=n[j],n[j+1]\n",
        "\n",
        "\n",
        "n=eval(input(\"enter the product ID\"))\n",
        "product=eval(input(\"enter the product name\"))\n",
        "x=len(n)\n",
        "bubble_sort(n,x)\n",
        "print(f'the packeges are {product}')\n",
        "print(f' the sorted destinations are {n}')\n"
      ],
      "metadata": {
        "colab": {
          "base_uri": "https://localhost:8080/"
        },
        "id": "yNATsYWVEu19",
        "outputId": "aa77610f-f923-48bb-816e-401f26894a43"
      },
      "execution_count": 9,
      "outputs": [
        {
          "output_type": "stream",
          "name": "stdout",
          "text": [
            "enter the product ID[32,34,54,12]\n",
            "enter the product name['mac','tab','chair','door']\n",
            "the packeges are ['mac', 'tab', 'chair', 'door']\n",
            " the sorted destinations are [12, 32, 34, 54]\n"
          ]
        }
      ]
    },
    {
      "cell_type": "markdown",
      "source": [
        "Imagine you're working for a large online marketplace company that facilitates the\n",
        "buying and selling of various products. As part of the order processing system, the\n",
        "company receives thousands of new orders every minute from customers all around\n",
        "the world. To ensure efficient and timely order fulfillment, the orders need to be\n",
        "sorted based on various criteria before they can be processed and shipped.\n"
      ],
      "metadata": {
        "id": "rYEMjKHwEyaj"
      }
    },
    {
      "cell_type": "code",
      "source": [
        "def bubble_sort(n,x):\n",
        "  for i in range(x-1):\n",
        "    for j in range(x-i-1):\n",
        "      if(n[j]>n[j+1]):\n",
        "        n[j+1],n[j]=n[j],n[j+1]\n",
        "\n",
        "\n",
        "n=eval(input(\"enter the product priority\"))\n",
        "product=eval(input(\"enter the product name\"))\n",
        "x=len(n)\n",
        "bubble_sort(n,x)\n",
        "print(f'the products are {product}')\n",
        "print(f' the sorted priority are {n}')"
      ],
      "metadata": {
        "colab": {
          "base_uri": "https://localhost:8080/"
        },
        "id": "8TtP2FqtEzy2",
        "outputId": "a51adc2d-efb9-40bf-9504-83bd9e32661f"
      },
      "execution_count": 10,
      "outputs": [
        {
          "output_type": "stream",
          "name": "stdout",
          "text": [
            "enter the product priority[45,65,73,66]\n",
            "enter the product name['a','b','c','d']\n",
            "the products are ['a', 'b', 'c', 'd']\n",
            " the sorted priority are [45, 65, 66, 73]\n"
          ]
        }
      ]
    }
  ]
}