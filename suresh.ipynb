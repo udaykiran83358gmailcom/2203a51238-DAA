{
  "nbformat": 4,
  "nbformat_minor": 0,
  "metadata": {
    "colab": {
      "provenance": [],
      "authorship_tag": "ABX9TyNrgoUQiCfPZkhlDaIJuxs1",
      "include_colab_link": true
    },
    "kernelspec": {
      "name": "python3",
      "display_name": "Python 3"
    },
    "language_info": {
      "name": "python"
    }
  },
  "cells": [
    {
      "cell_type": "markdown",
      "metadata": {
        "id": "view-in-github",
        "colab_type": "text"
      },
      "source": [
        "<a href=\"https://colab.research.google.com/github/udaykiran83358gmailcom/2203a51238-DAA/blob/main/suresh.ipynb\" target=\"_parent\"><img src=\"https://colab.research.google.com/assets/colab-badge.svg\" alt=\"Open In Colab\"/></a>"
      ]
    },
    {
      "cell_type": "markdown",
      "source": [
        "In an online bookstore, there are thousands of books available for purchase. The\n",
        "bookstore's website allows customers to search for books based on various criteria,\n",
        "such as title, author, publication date, and price. if a customer searches for books by\n",
        "a specific title and price, the program can arrange the search results by price, from\n",
        "low to high or vice versa, based on the customer's preferen"
      ],
      "metadata": {
        "id": "BnctaSVKPU0e"
      }
    },
    {
      "cell_type": "markdown",
      "source": [
        "#selection sort"
      ],
      "metadata": {
        "id": "PUC9OrmeUNhb"
      }
    },
    {
      "cell_type": "code",
      "execution_count": 10,
      "metadata": {
        "id": "YdP1crptLAt8",
        "colab": {
          "base_uri": "https://localhost:8080/"
        },
        "outputId": "abfeb8db-dc77-410c-de40-e56886da9f84"
      },
      "outputs": [
        {
          "output_type": "stream",
          "name": "stdout",
          "text": [
            "enter titles of the books['dad','mom','sis','bro']\n",
            "enter the author of the books['a','b','c','d']\n",
            "enter the publication of the date['oct','nov','dec','jan'] \n",
            "enter the book prices[900,500,300,100]\n",
            " titles of the books['dad', 'mom', 'sis', 'bro']\n",
            " name of the author['a', 'b', 'c', 'd']\n",
            " the publication date['oct', 'nov', 'dec', 'jan']\n",
            "the sorted price in selection sort is [100, 500, 300, 900]\n"
          ]
        }
      ],
      "source": [
        "y=eval(input(\"enter titles of the books\"))\n",
        "z=eval(input(\"enter the author of the books\"))\n",
        "date=eval(input(\"enter the publication of the date\"))\n",
        "n=eval(input(\"enter the book prices\"))\n",
        "x=len(n)\n",
        "for i in range(x-1):\n",
        "  index=i\n",
        "  for j in range(x-1):\n",
        "    if(n[index]>n[j+1]):\n",
        "      index=j+1\n",
        "  temp=n[i]\n",
        "  n[i]=n[index]\n",
        "  n[index]=temp\n",
        "print(f' titles of the books{y}')\n",
        "print(f' name of the author{z}')\n",
        "print(f' the publication date{date}')\n",
        "print(f'the sorted price in selection sort is {n}')\n",
        "\n"
      ]
    },
    {
      "cell_type": "markdown",
      "source": [
        "Courier and logistics companies handle a massive volume of packages daily. These\n",
        "packages need to be efficiently sorted and routed to their destinations to ensure\n",
        "timely and accurate deliveries. Each package typically has a unique barcode that\n",
        "contains essential information like the recipient's address, delivery method, and\n",
        "tracking number. So, implement an application to arrange the packages based on\n",
        "tracking numbers."
      ],
      "metadata": {
        "id": "1y9k9SH1UWOD"
      }
    },
    {
      "cell_type": "code",
      "source": [
        "def selection(n,x):\n",
        "  for i in range(x-1):\n",
        "    index=i\n",
        "    for j in range(i+1,x):\n",
        "      if(n[index]>n[j]):\n",
        "        index=j\n",
        "    n[index],n[i]=n[i],n[index]\n",
        "\n",
        "\n",
        "\n",
        "a=eval(input(\"enter the address\"))\n",
        "b=eval(input(\"enter the delivey method\"))\n",
        "n=eval(input(\"enter the teacking addres\"))\n",
        "x=len(n)\n",
        "selection(n,x)\n",
        "print(f'the packages based on tracking numbers is {n}')\n",
        "print(f'the packages address is {a}')\n",
        "print(f'the packages delivey method is {b}')\n",
        "\n"
      ],
      "metadata": {
        "colab": {
          "base_uri": "https://localhost:8080/"
        },
        "id": "6TN2P4CFUe1q",
        "outputId": "be0b0c94-45f5-4579-eef8-8649d9e7bddd"
      },
      "execution_count": 22,
      "outputs": [
        {
          "output_type": "stream",
          "name": "stdout",
          "text": [
            "enter the address['nal','warl','niz']\n",
            "enter the delivey method['cash','online','cash','online']\n",
            "enter the teacking addres[10,30,40,50]\n",
            "the packages based on tracking numbers is [10, 30, 40, 50]\n",
            "the packages address is ['nal', 'warl', 'niz']\n",
            "the packages delivey method is ['cash', 'online', 'cash', 'online']\n"
          ]
        }
      ]
    },
    {
      "cell_type": "markdown",
      "source": [
        "Imagine you are working for a large online marketplace like Amazon or eBay. One\n",
        "of the critical functionalities of such platforms is to display products to customers in\n",
        "a way that is relevant, helpful, and easy to navigate. Customers can browse through\n",
        "thousands or even millions of products, and Many users prefer to see products sorted\n",
        "by price, either in ascending or descending order. This allows them to find the\n",
        "cheapest or most expensive products within their budget. So, implement an\n",
        "application to arrange the products based on price"
      ],
      "metadata": {
        "id": "q1ACyGlrZFDx"
      }
    },
    {
      "cell_type": "code",
      "source": [
        "def selection(n,x):\n",
        "  for i in range(x-1):\n",
        "    index=i\n",
        "    for j in range(i+1,x):\n",
        "      if(n[index]>n[j]):\n",
        "        index=j\n",
        "    n[index],n[i]=n[i],n[index]\n",
        "\n",
        "a=eval(input(\"enter the products name\"))\n",
        "n=eval(input(\"enter the products price\"))\n",
        "x=len(n)\n",
        "selection(n,x)\n",
        "print(f'the packages based on tracking numbers is {n}')\n",
        "\n",
        "\n"
      ],
      "metadata": {
        "colab": {
          "base_uri": "https://localhost:8080/"
        },
        "id": "btwH81z_ZH3i",
        "outputId": "23c0aaa7-73ea-4c40-8e4a-25f5b7661b9e"
      },
      "execution_count": 23,
      "outputs": [
        {
          "output_type": "stream",
          "name": "stdout",
          "text": [
            "enter the products name['mackbook','sofa','chair','book']\n",
            "enter the products price[50000,25000,500,50]\n",
            "the packages based on tracking numbers is [50, 500, 25000, 50000]\n",
            "the packages address is ['mackbook', 'sofa', 'chair', 'book']\n"
          ]
        }
      ]
    }
  ]
}